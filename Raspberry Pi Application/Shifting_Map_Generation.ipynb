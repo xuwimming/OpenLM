{
 "cells": [
  {
   "cell_type": "markdown",
   "metadata": {},
   "source": [
    "## This notebook is designed to generate an accurate shifting map and determine focal plane of your objects."
   ]
  },
  {
   "cell_type": "code",
   "execution_count": null,
   "metadata": {},
   "outputs": [],
   "source": [
    "import numpy as np\n",
    "import OpenLMlib as PSR\n",
    "import matplotlib.pyplot as plt\n",
    "from skimage.restoration import inpaint\n",
    "from image_registration import chi2_shift"
   ]
  },
  {
   "cell_type": "markdown",
   "metadata": {},
   "source": [
    "### Load LR Images"
   ]
  },
  {
   "cell_type": "code",
   "execution_count": null,
   "metadata": {},
   "outputs": [],
   "source": [
    "file_name_list = list(np.arange(17,22))+list(np.arange(25,30))+list(np.arange(33,38))+list(np.arange(41,46))+list(np.arange(49,54))\n",
    "frames = []\n",
    "\n",
    "for i in range(len(file_name_list)):\n",
    "    path = \"D:/0401/30/\" + str(file_name_list[i]) + \".dng\"\n",
    "    full_FOV = PSR.largest_FOV(path)\n",
    "    # use full_FOV[H1:H2, W1:W2] to crop image\n",
    "    section_FOV = full_FOV # full_FOV[H1:H2, W1:W2]\n",
    "    frames.append(full_FOV)\n",
    "    \n",
    "frames = np.array(frames)"
   ]
  },
  {
   "cell_type": "markdown",
   "metadata": {},
   "source": [
    "### Generate Shifting Map\n",
    "\n",
    "A good shifting map ensures that each point is evenly spaced, maintaining consistent distances between neighboring positions."
   ]
  },
  {
   "cell_type": "code",
   "execution_count": null,
   "metadata": {},
   "outputs": [],
   "source": [
    "shift_map = PSR.shiftMap(frames, len(file_name_list))\n",
    "\n",
    "plt.rcParams['figure.figsize'] = (6,6)\n",
    "plt.scatter(shift_map[:,1], shift_map[:,0])\n",
    "plt.xlabel(\"Shift [pixel]\")\n",
    "plt.ylabel(\"Shift [pixel]\")\n",
    "plt.title(\"Shifts\")"
   ]
  },
  {
   "cell_type": "markdown",
   "metadata": {},
   "source": [
    "### Generate HR Image\n",
    "\n",
    "If HR image generation fails, it indicates that the shifting map is incorrect. Crop the image to isolate a single target object, then regenerate the shifting map."
   ]
  },
  {
   "cell_type": "code",
   "execution_count": null,
   "metadata": {},
   "outputs": [],
   "source": [
    "scale_factor = 4\n",
    "\n",
    "HR_hologram = PSR.superResolution(frames, shift_map, len(file_name_list), scale_factor)\n",
    "\n",
    "reconstructed_image, ToG, optimized_zs = PSR.imageReconstruction(\n",
    "    frames[12, :],              \n",
    "    z_start=450e-6,             \n",
    "    z_step=10e-6,               \n",
    "    iteration=20                \n",
    ")\n",
    "print(f\"Estimated focal plane (LR): {optimized_zs:.6f} m\")\n",
    "\n",
    "# Note: HR focal depth ≈ LR focal depth × (scale_factor²)\n",
    "reconstructed_image_HR, ToG_HR, optimized_zs_HR = PSR.imageReconstruction(\n",
    "    HR_hologram,\n",
    "    z_start=optimized_zs * scale_factor**2 - 100e-6,\n",
    "    z_step=10e-6,\n",
    "    iteration=20\n",
    ")\n",
    "\n",
    "plt.rcParams['figure.figsize'] = (16, 8)\n",
    "\n",
    "plt.subplot(1, 2, 1)\n",
    "plt.imshow(reconstructed_image, cmap=\"gray\")\n",
    "plt.title(\"Low Resolution\", fontsize=14)\n",
    "plt.axis(\"off\")\n",
    "\n",
    "plt.subplot(1, 2, 2)\n",
    "plt.imshow(reconstructed_image_HR, cmap=\"gray\")\n",
    "plt.title(\"High Resolution\", fontsize=14)\n",
    "plt.axis(\"off\")\n",
    "\n",
    "plt.tight_layout()\n",
    "plt.show()"
   ]
  },
  {
   "cell_type": "markdown",
   "metadata": {},
   "source": [
    "### Save Shifting Map\n",
    "\n",
    "Save the shifting map in the same folder as the Windows application and library files"
   ]
  },
  {
   "cell_type": "code",
   "execution_count": null,
   "metadata": {},
   "outputs": [],
   "source": [
    "np.save(\"path/to/windows_application/shift_map.npy\", shift_map)"
   ]
  }
 ],
 "metadata": {
  "kernelspec": {
   "display_name": "python12",
   "language": "python",
   "name": "python3"
  },
  "language_info": {
   "codemirror_mode": {
    "name": "ipython",
    "version": 3
   },
   "file_extension": ".py",
   "mimetype": "text/x-python",
   "name": "python",
   "nbconvert_exporter": "python",
   "pygments_lexer": "ipython3",
   "version": "3.12.8"
  }
 },
 "nbformat": 4,
 "nbformat_minor": 2
}
