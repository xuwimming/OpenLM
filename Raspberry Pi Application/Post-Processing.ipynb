{
 "cells": [
  {
   "cell_type": "markdown",
   "metadata": {},
   "source": [
    "## This notebook is for post-processing"
   ]
  },
  {
   "cell_type": "code",
   "execution_count": null,
   "metadata": {},
   "outputs": [],
   "source": [
    "import os\n",
    "import cv2\n",
    "import numpy as np\n",
    "import OpenLMlib as PSR"
   ]
  },
  {
   "cell_type": "markdown",
   "metadata": {},
   "source": [
    "### Processing all frames"
   ]
  },
  {
   "cell_type": "code",
   "execution_count": null,
   "metadata": {},
   "outputs": [],
   "source": [
    "main_folder = \"path/to/main folder of all time lapse image folders\"\n",
    "for n in np.arange(0,263):\n",
    "    subfolder = main_folder + str(n) + '/'\n",
    "    scale_factor = 4\n",
    "    file_name_list = list(np.arange(17, 22)) + list(np.arange(25, 30)) + \\\n",
    "                    list(np.arange(33, 38)) + list(np.arange(41, 46)) + \\\n",
    "                    list(np.arange(49, 54))\n",
    "    frames = []\n",
    "    for i in range(len(file_name_list)):\n",
    "        file_path = subfolder + str(file_name_list[i]) + \".dng\"\n",
    "        npy_path = subfolder + str(file_name_list[i]) + \".npy\"\n",
    "        if os.path.exists(npy_path):\n",
    "            os.remove(npy_path)\n",
    "        img = PSR.largest_FOV(file_path)\n",
    "        frames.append(img)\n",
    "    frames = np.array(frames)\n",
    "    frame_size = len(file_name_list)\n",
    "    shift_map = np.load(\"path/to/shift_map.npy\")\n",
    "    HR_img = PSR.superResolution(frames, shift_map, frame_size, scale_factor)\n",
    "    HR_path = subfolder + \"HR_raw.npy\"\n",
    "    np.save(HR_path, HR_img)\n",
    "\n",
    "    z_start = 9304*10**-6\n",
    "    z_step = 1 * 10**-6\n",
    "    iteration = 1\n",
    "    reconstructed_imageHR, ToG, optimized_zs = PSR.imageReconstruction(HR_img,z_start,z_step,iteration)\n",
    "\n",
    "    imgHR_path = subfolder + \"HR_reconstructed.npy\"\n",
    "    np.save(imgHR_path, reconstructed_imageHR)\n",
    "    Jimg_path = subfolder + \"HR_reconstructed.jpg\"\n",
    "    jpg_img = PSR.npy2jpg(reconstructed_imageHR)\n",
    "    jpg_img.save(Jimg_path)"
   ]
  },
  {
   "cell_type": "markdown",
   "metadata": {},
   "source": [
    "### Write video"
   ]
  },
  {
   "cell_type": "code",
   "execution_count": null,
   "metadata": {},
   "outputs": [],
   "source": [
    "main_folder = \"path/to/main folder of all time lapse image folders\"\n",
    "output_path = main_folder + \"growth_video.avi\"\n",
    "fps = 10  # Frames per second\n",
    "\n",
    "# Create an empty list to store the images\n",
    "images = []\n",
    "\n",
    "# Loop through the range of subfolder indices (0 to 288)\n",
    "for i in range(263):\n",
    "    subfolder = os.path.join(main_folder, str(i))  # Subfolder path\n",
    "    HR_path = os.path.join(subfolder, \"HR_reconstructed.jpg\")  # Full path to the image\n",
    "    if os.path.exists(HR_path):  # Check if the image exists\n",
    "        images.append(HR_path)\n",
    "\n",
    "# Read the first image to get the dimensions (width, height)\n",
    "frame = cv2.imread(images[0])\n",
    "height, width, layers = frame.shape\n",
    "\n",
    "# Set up the video writer (using MP4 codec here)\n",
    "fourcc = cv2.VideoWriter_fourcc(*'MJPG')  # 'mp4v' for .mp4\n",
    "video_writer = cv2.VideoWriter(output_path, fourcc, fps, (height, width))\n",
    "\n",
    "# Loop through the images and write each one to the video\n",
    "for image_path in images:\n",
    "    img = cv2.imread(image_path)\n",
    "    #img = img[1187:2187,3288:4288,:]\n",
    "    video_writer.write(img)  # Write frame to video\n",
    "\n",
    "# Release the video writer object\n",
    "video_writer.release()\n",
    "\n",
    "print(\"Video created successfully!\")"
   ]
  }
 ],
 "metadata": {
  "kernelspec": {
   "display_name": "python12",
   "language": "python",
   "name": "python3"
  },
  "language_info": {
   "codemirror_mode": {
    "name": "ipython",
    "version": 3
   },
   "file_extension": ".py",
   "mimetype": "text/x-python",
   "name": "python",
   "nbconvert_exporter": "python",
   "pygments_lexer": "ipython3",
   "version": "3.12.8"
  }
 },
 "nbformat": 4,
 "nbformat_minor": 2
}
